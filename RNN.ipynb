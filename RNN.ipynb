{
  "nbformat": 4,
  "nbformat_minor": 0,
  "metadata": {
    "colab": {
      "provenance": []
    },
    "kernelspec": {
      "name": "python3",
      "display_name": "Python 3"
    },
    "language_info": {
      "name": "python"
    }
  },
  "cells": [
    {
      "cell_type": "code",
      "execution_count": 2,
      "metadata": {
        "colab": {
          "base_uri": "https://localhost:8080/"
        },
        "id": "g0InUXWZbHYM",
        "outputId": "f787a7e4-6c24-418c-9a88-0b2d948f1a37"
      },
      "outputs": [
        {
          "output_type": "stream",
          "name": "stdout",
          "text": [
            "Epoch 1/10\n",
            "\u001b[1m1/1\u001b[0m \u001b[32m━━━━━━━━━━━━━━━━━━━━\u001b[0m\u001b[37m\u001b[0m \u001b[1m2s\u001b[0m 2s/step - accuracy: 0.7500 - loss: 0.6683\n",
            "Epoch 2/10\n",
            "\u001b[1m1/1\u001b[0m \u001b[32m━━━━━━━━━━━━━━━━━━━━\u001b[0m\u001b[37m\u001b[0m \u001b[1m0s\u001b[0m 42ms/step - accuracy: 0.7500 - loss: 0.6583\n",
            "Epoch 3/10\n",
            "\u001b[1m1/1\u001b[0m \u001b[32m━━━━━━━━━━━━━━━━━━━━\u001b[0m\u001b[37m\u001b[0m \u001b[1m0s\u001b[0m 59ms/step - accuracy: 1.0000 - loss: 0.6482\n",
            "Epoch 4/10\n",
            "\u001b[1m1/1\u001b[0m \u001b[32m━━━━━━━━━━━━━━━━━━━━\u001b[0m\u001b[37m\u001b[0m \u001b[1m0s\u001b[0m 40ms/step - accuracy: 1.0000 - loss: 0.6382\n",
            "Epoch 5/10\n",
            "\u001b[1m1/1\u001b[0m \u001b[32m━━━━━━━━━━━━━━━━━━━━\u001b[0m\u001b[37m\u001b[0m \u001b[1m0s\u001b[0m 57ms/step - accuracy: 1.0000 - loss: 0.6282\n",
            "Epoch 6/10\n",
            "\u001b[1m1/1\u001b[0m \u001b[32m━━━━━━━━━━━━━━━━━━━━\u001b[0m\u001b[37m\u001b[0m \u001b[1m0s\u001b[0m 62ms/step - accuracy: 1.0000 - loss: 0.6181\n",
            "Epoch 7/10\n",
            "\u001b[1m1/1\u001b[0m \u001b[32m━━━━━━━━━━━━━━━━━━━━\u001b[0m\u001b[37m\u001b[0m \u001b[1m0s\u001b[0m 57ms/step - accuracy: 1.0000 - loss: 0.6080\n",
            "Epoch 8/10\n",
            "\u001b[1m1/1\u001b[0m \u001b[32m━━━━━━━━━━━━━━━━━━━━\u001b[0m\u001b[37m\u001b[0m \u001b[1m0s\u001b[0m 58ms/step - accuracy: 1.0000 - loss: 0.5978\n",
            "Epoch 9/10\n",
            "\u001b[1m1/1\u001b[0m \u001b[32m━━━━━━━━━━━━━━━━━━━━\u001b[0m\u001b[37m\u001b[0m \u001b[1m0s\u001b[0m 61ms/step - accuracy: 1.0000 - loss: 0.5876\n",
            "Epoch 10/10\n",
            "\u001b[1m1/1\u001b[0m \u001b[32m━━━━━━━━━━━━━━━━━━━━\u001b[0m\u001b[37m\u001b[0m \u001b[1m0s\u001b[0m 64ms/step - accuracy: 1.0000 - loss: 0.5773\n"
          ]
        },
        {
          "output_type": "execute_result",
          "data": {
            "text/plain": [
              "<keras.src.callbacks.history.History at 0x78f64ec4d490>"
            ]
          },
          "metadata": {},
          "execution_count": 2
        }
      ],
      "source": [
        "import numpy as np\n",
        "from tensorflow.keras.preprocessing.text import Tokenizer\n",
        "from tensorflow.keras.preprocessing.sequence import pad_sequences\n",
        "from tensorflow.keras.models import Sequential\n",
        "from tensorflow.keras.layers import Embedding, SimpleRNN, Dense\n",
        "\n",
        "\n",
        "## numpy: Used for numerical operations (not directly used here but often used with arrays).\n",
        "\n",
        "## Tokenizer and pad_sequences: Preprocess text data (convert text into numbers).\n",
        "\n",
        "## Sequential: Allows us to stack layers in order.\n",
        "\n",
        "## Embedding: Converts words into dense vectors (word embeddings).\n",
        "\n",
        "## SimpleRNN: A basic Recurrent Neural Network layer.\n",
        "\n",
        "## Dense: Fully connected layer for classification.\n",
        "\n",
        "# Sample sentences and labels\n",
        "sentences = ['I love deep learning', 'RNNs are powerful', 'I enjoy learning AI', 'AI is the future']\n",
        "labels = [1, 1, 1, 0]\n",
        "\n",
        "# Tokenization\n",
        "tokenizer = Tokenizer()\n",
        "tokenizer.fit_on_texts(sentences)\n",
        "sequences = tokenizer.texts_to_sequences(sentences)\n",
        "\n",
        "# Padding\n",
        "X = pad_sequences(sequences)\n",
        "y = np.array(labels)  # <-- FIX: convert labels to numpy array\n",
        "\n",
        "model = Sequential([\n",
        "      Embedding(input_dim=len(tokenizer.word_index) + 1, output_dim=8),\n",
        "              SimpleRNN(16),\n",
        "                          Dense(1, activation='sigmoid')\n",
        "\n",
        "\n",
        "                                      ])\n",
        "\n",
        "\n",
        "## Embedding:\n",
        "\n",
        "## Converts word indexes to 8-dimensional vectors.\n",
        "\n",
        "## input_dim = vocab_size + 1 (1 is added because indexing starts at 1).\n",
        "\n",
        "## SimpleRNN(16):\n",
        "\n",
        "## RNN with 16 hidden units.\n",
        "\n",
        "## Processes sequential input and maintains memory (used in NLP tasks).\n",
        "\n",
        "## Dense(1, activation='sigmoid'):\n",
        "\n",
        "## Output layer.\n",
        "\n",
        "## neuron because it's binary classification.\n",
        "\n",
        "## Sigmoid activation gives output between 0 and 1 (interpreted as probability).\n",
        "\n",
        "# Compile\n",
        "model.compile(optimizer='adam', loss='binary_crossentropy', metrics=['accuracy'])\n",
        "\n",
        "# Train\n",
        "model.fit(X, y, epochs=10)\n",
        "\n",
        "# o/p Low loss, High accuracy (close to 100%)."
      ]
    }
  ]
}